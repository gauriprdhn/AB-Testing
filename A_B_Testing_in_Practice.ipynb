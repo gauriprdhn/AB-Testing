{
  "nbformat": 4,
  "nbformat_minor": 0,
  "metadata": {
    "colab": {
      "name": "A/B Testing in Practice",
      "provenance": [],
      "collapsed_sections": []
    },
    "kernelspec": {
      "name": "python3",
      "display_name": "Python 3"
    }
  },
  "cells": [
    {
      "cell_type": "code",
      "metadata": {
        "id": "abadlIdLKvAp"
      },
      "source": [
        "import scipy.stats as scs\n",
        "import pandas as pd\n",
        "import numpy as np\n",
        "import matplotlib.pyplot as plt"
      ],
      "execution_count": 2,
      "outputs": []
    },
    {
      "cell_type": "markdown",
      "metadata": {
        "id": "PVhk9nz_Kyjn"
      },
      "source": [
        "**A/B Testing** \n",
        "\n",
        "The goal of A/B testing is to check whether a change (a treatment) is going to have a significant impact on the target population. It is a randomized controlled experiment in which we test 2 versions of the same variable and evaluate which performs better in the controlled environment.\n",
        "\n",
        "**How does it work?**\n",
        "\n",
        "Familiarize yourself with the following terms before we proceed further:\n",
        "\n",
        "1. **Hypothesis** refers to a claim  made about the population. Its a statement whose authenticity will be tested with the statistical analysis underlying the A/B testing. In a normal test environment, we have 2 hypothesis on hand, the Null Hypothesis ($H_{o}$) which states that any impact of the treatment observed on the sample population is purely by chance. The Alternate Hypothesis ($H_{a}$) is the one the researcher wants to prove as being true. It is the one where we believe that a treatment affected the response of the sample population.\n",
        "2. Generally in A/B testing we split the traffic (read, population) into 2 groups, **Control Group** and the **Test Group**. Each group is created/ obtained by random sampling (hence the process being referred to as a randomized experiment). It is very important to assure the randomness of the sampling process as it eliminates the *sampling bias* and we want our sample population to be as true a representative of the true (and significantly larger distribution as poosible)\n",
        "Let's understand the 2 groups in the classic context, that is from when A/B testing is used to access the impact of changes (treatment) made to a website. The samples obtained from the traffic to the version A (original) of the website is the control group whereas the samples from the traffic to the version B (enhanced) of the website is the test group.\n",
        "3. **Sampling Size** is a vital point of the experiment too as it determines how much we can overcome the *under coverage bias*. Too less samples may not help us cover the probable types of users for the product.\n",
        "4. **Errors during the test** There are two types of errors that may occur in our hypothesis testing:\n",
        "\n",
        "  *Type I error*: We reject the null hypothesis when it is true. That is we accept the variant B when it is not performing better than A.\n",
        "\n",
        "  *Type II error*: We failed to reject the null hypothesis when it is false. It means we conclude variant B is not good when it performs better than A.  \n",
        "5. **Baseline Conversion Rate and Lift:** The baseline conversion rate is the rate at which existings users sign up for the website whereas desired lift is the increase in the conversion rate which we are trying to achieve with the changes to design implemented in the version B.\n",
        "6. **Significance Level:** Probability of the type I error, denoted by $\\alpha$. In simple words, its the probability that we will reject a null hypothesis when it is True.\n",
        "7. **P-value:** Just like $\\alpha$ supports the alternative hypothesis, p-value supported the null hypothesis. It is the probability that any observation is simply an occurance by chance.\n",
        "8. **Metric for Evaluation** is an integral part of our analysis. It determines how we will quantify the results of our evaluation and use them to make inferences about the data. \n",
        "####Let's start wih defining the associated variables!"
      ]
    },
    {
      "cell_type": "code",
      "metadata": {
        "id": "vQrC9e3plN5c",
        "outputId": "34d1f04b-30ee-4f1c-d36d-d6b5ba5a0eeb",
        "colab": {
          "base_uri": "https://localhost:8080/"
        }
      },
      "source": [
        "#import packages\n",
        "import pandas as pd\n",
        "import math\n",
        "import statsmodels.stats.api as sms\n",
        "import scipy.stats as st"
      ],
      "execution_count": 3,
      "outputs": [
        {
          "output_type": "stream",
          "text": [
            "/usr/local/lib/python3.6/dist-packages/statsmodels/tools/_testing.py:19: FutureWarning: pandas.util.testing is deprecated. Use the functions in the public API at pandas.testing instead.\n",
            "  import pandas.util.testing as tm\n"
          ],
          "name": "stderr"
        }
      ]
    },
    {
      "cell_type": "code",
      "metadata": {
        "id": "SFThalvJCfAK",
        "outputId": "bbb0cfa6-813b-4cf6-8e49-0677da12b9db",
        "colab": {
          "base_uri": "https://localhost:8080/",
          "height": 212
        }
      },
      "source": [
        "dataPath = \"/content/drive/My Drive/ab_data.csv\"\n",
        "raw_data = pd.read_csv(dataPath)\n",
        "df = raw_data.copy()\n",
        "print(\"Number of rows: \", df.shape[0], \" Number of columns: \", df.shape[1])\n",
        "df.head()"
      ],
      "execution_count": 4,
      "outputs": [
        {
          "output_type": "stream",
          "text": [
            "Number of rows:  294478  Number of columns:  5\n"
          ],
          "name": "stdout"
        },
        {
          "output_type": "execute_result",
          "data": {
            "text/html": [
              "<div>\n",
              "<style scoped>\n",
              "    .dataframe tbody tr th:only-of-type {\n",
              "        vertical-align: middle;\n",
              "    }\n",
              "\n",
              "    .dataframe tbody tr th {\n",
              "        vertical-align: top;\n",
              "    }\n",
              "\n",
              "    .dataframe thead th {\n",
              "        text-align: right;\n",
              "    }\n",
              "</style>\n",
              "<table border=\"1\" class=\"dataframe\">\n",
              "  <thead>\n",
              "    <tr style=\"text-align: right;\">\n",
              "      <th></th>\n",
              "      <th>user_id</th>\n",
              "      <th>timestamp</th>\n",
              "      <th>group</th>\n",
              "      <th>landing_page</th>\n",
              "      <th>converted</th>\n",
              "    </tr>\n",
              "  </thead>\n",
              "  <tbody>\n",
              "    <tr>\n",
              "      <th>0</th>\n",
              "      <td>851104</td>\n",
              "      <td>2017-01-21 22:11:48.556739</td>\n",
              "      <td>control</td>\n",
              "      <td>old_page</td>\n",
              "      <td>0</td>\n",
              "    </tr>\n",
              "    <tr>\n",
              "      <th>1</th>\n",
              "      <td>804228</td>\n",
              "      <td>2017-01-12 08:01:45.159739</td>\n",
              "      <td>control</td>\n",
              "      <td>old_page</td>\n",
              "      <td>0</td>\n",
              "    </tr>\n",
              "    <tr>\n",
              "      <th>2</th>\n",
              "      <td>661590</td>\n",
              "      <td>2017-01-11 16:55:06.154213</td>\n",
              "      <td>treatment</td>\n",
              "      <td>new_page</td>\n",
              "      <td>0</td>\n",
              "    </tr>\n",
              "    <tr>\n",
              "      <th>3</th>\n",
              "      <td>853541</td>\n",
              "      <td>2017-01-08 18:28:03.143765</td>\n",
              "      <td>treatment</td>\n",
              "      <td>new_page</td>\n",
              "      <td>0</td>\n",
              "    </tr>\n",
              "    <tr>\n",
              "      <th>4</th>\n",
              "      <td>864975</td>\n",
              "      <td>2017-01-21 01:52:26.210827</td>\n",
              "      <td>control</td>\n",
              "      <td>old_page</td>\n",
              "      <td>1</td>\n",
              "    </tr>\n",
              "  </tbody>\n",
              "</table>\n",
              "</div>"
            ],
            "text/plain": [
              "   user_id                   timestamp      group landing_page  converted\n",
              "0   851104  2017-01-21 22:11:48.556739    control     old_page          0\n",
              "1   804228  2017-01-12 08:01:45.159739    control     old_page          0\n",
              "2   661590  2017-01-11 16:55:06.154213  treatment     new_page          0\n",
              "3   853541  2017-01-08 18:28:03.143765  treatment     new_page          0\n",
              "4   864975  2017-01-21 01:52:26.210827    control     old_page          1"
            ]
          },
          "metadata": {
            "tags": []
          },
          "execution_count": 4
        }
      ]
    },
    {
      "cell_type": "markdown",
      "metadata": {
        "id": "tYPAHukyEqdh"
      },
      "source": [
        "Some of the users in the control group experianced the new page and similarly, a few users in the treatment group were directed to the old page. We don't need these instances. It is better to delete them."
      ]
    },
    {
      "cell_type": "code",
      "metadata": {
        "id": "S21j5Bv9EKub",
        "outputId": "dcbaf620-e472-445e-e2ee-e4ce6c9e3514",
        "colab": {
          "base_uri": "https://localhost:8080/"
        }
      },
      "source": [
        "mask1 = (df[\"group\"] == \"control\") & (df[\"landing_page\"] == \"new_page\")\n",
        "index_to_drop1 = df[mask1].index\n",
        "df = df.drop(index_to_drop1)\n",
        "\n",
        "mask2 = (df[\"group\"] == \"treatment\") & (df[\"landing_page\"] == \"old_page\")\n",
        "index_to_drop2 = df[mask2].index\n",
        "df = df.drop(index_to_drop2)\n",
        "\n",
        "df[\"group\"].value_counts()"
      ],
      "execution_count": 5,
      "outputs": [
        {
          "output_type": "execute_result",
          "data": {
            "text/plain": [
              "treatment    145311\n",
              "control      145274\n",
              "Name: group, dtype: int64"
            ]
          },
          "metadata": {
            "tags": []
          },
          "execution_count": 5
        }
      ]
    },
    {
      "cell_type": "code",
      "metadata": {
        "id": "nC4svSknET1N",
        "outputId": "9216914b-ec35-4099-f1f8-2976a55a1b2c",
        "colab": {
          "base_uri": "https://localhost:8080/"
        }
      },
      "source": [
        "# remove the duplicates users from the data\n",
        "print(df[\"user_id\"].count())\n",
        "print(df[\"user_id\"].nunique())\n",
        "df.drop_duplicates(subset ='user_id',keep ='first',inplace = True)"
      ],
      "execution_count": 6,
      "outputs": [
        {
          "output_type": "stream",
          "text": [
            "290585\n",
            "290584\n"
          ],
          "name": "stdout"
        }
      ]
    },
    {
      "cell_type": "code",
      "metadata": {
        "id": "AnLHu6HDGDvk",
        "outputId": "fcda5013-3c9a-4bdf-c94a-fba4681085fe",
        "colab": {
          "base_uri": "https://localhost:8080/"
        }
      },
      "source": [
        "# Show the % split between users who saw new vs old page\n",
        "# Calculate pooled probability\n",
        "mask = (df[\"group\"] == \"control\")\n",
        "conversions_control = df[\"converted\"][mask].sum()\n",
        "total_users_control = df[\"converted\"][mask].count()\n",
        "\n",
        "mask = (df[\"group\"] == \"treatment\")\n",
        "conversions_treatment = df[\"converted\"][mask].sum()\n",
        "total_users_treatment = df[\"converted\"][mask].count()\n",
        "\n",
        "print(\"Split of control users who saw old page vs treatment users who saw new page: \", \n",
        "          round(total_users_control / df[\"converted\"].count() * 100, 2), \"% \",\n",
        "          round((total_users_treatment / df[\"converted\"].count()) * 100, 2), \"%\")"
      ],
      "execution_count": 7,
      "outputs": [
        {
          "output_type": "stream",
          "text": [
            "Split of control users who saw old page vs treatment users who saw new page:  49.99 %  50.01 %\n"
          ],
          "name": "stdout"
        }
      ]
    },
    {
      "cell_type": "code",
      "metadata": {
        "id": "KBLdaDZvGjLV",
        "outputId": "aea6696e-f4da-4e27-8453-dff6406dc148",
        "colab": {
          "base_uri": "https://localhost:8080/"
        }
      },
      "source": [
        "# count number of users who converted in each group\n",
        "print(\"Number of control users who converted on old page: \", conversions_control)\n",
        "print(\"Percentage of control users who converted: \", round((conversions_control / total_users_control) * 100, 2), \"%\")\n",
        "\n",
        "mask = (df[\"group\"] == \"treatment\")\n",
        "print(\"Number of treatment users who converted on new page: \", conversions_treatment)\n",
        "print(\"Percentage of treatment users who converted: \", round((conversions_treatment/ total_users_treatment) * 100, 2), \"%\")"
      ],
      "execution_count": 8,
      "outputs": [
        {
          "output_type": "stream",
          "text": [
            "Number of control users who converted on old page:  17489\n",
            "Percentage of control users who converted:  12.04 %\n",
            "Number of treatment users who converted on new page:  17264\n",
            "Percentage of treatment users who converted:  11.88 %\n"
          ],
          "name": "stdout"
        }
      ]
    },
    {
      "cell_type": "markdown",
      "metadata": {
        "id": "EHT3oFk34tUj"
      },
      "source": [
        "**User Defined variables:**\n",
        "\n",
        "1. *Baseline Conversion Rate* The estimate of the metric to be analyzed before making changes.\n",
        "2. *Practical Significance Level* It the minimum improvement desired to improce the business. \n",
        "3. *Confidence Level* It is the p-value to be compared to the $\\alpha$. \n",
        "4. *Sensitivity* Probability that the null hypothesis is not rejected when it should be.\n",
        "\n",
        "The baseline rate can be estimated using historical data, the practical significance level will depend on what makes sense to the business and the confidence level and sensitivity are generally set at 95% and 80% respectively but can be adjusted to suit different experiments or business needs.\n",
        "Once these are set, the sample size required can be calculated statistically."
      ]
    },
    {
      "cell_type": "code",
      "metadata": {
        "id": "ojbPRStxGqPi",
        "outputId": "b44a46d5-0f6d-4bfd-da2e-2f81ae2f8f03",
        "colab": {
          "base_uri": "https://localhost:8080/"
        }
      },
      "source": [
        "#Check what sample size is required\n",
        "baseline_rate = conversions_control / total_users_control\n",
        "practical_significance = 0.01\n",
        "confidence_level = 0.05 \n",
        "sensitivity = 0.7\n",
        "\n",
        "effect_size = sms.proportion_effectsize(baseline_rate, baseline_rate + practical_significance)\n",
        "sample_size = sms.NormalIndPower().solve_power(effect_size = effect_size, power = sensitivity, \n",
        "                                               alpha = confidence_level, ratio=1)\n",
        "print(\"Required sample size: \", round(sample_size), \" per group\")"
      ],
      "execution_count": 20,
      "outputs": [
        {
          "output_type": "stream",
          "text": [
            "Required sample size:  13532  per group\n"
          ],
          "name": "stdout"
        }
      ]
    },
    {
      "cell_type": "markdown",
      "metadata": {
        "id": "pYEzcvCL_ZE8"
      },
      "source": [
        "####**Let's begin with the A/B Testing**\n",
        "\n",
        "Prior to proceeding with the experiment, it is essential to develop an understanding of the experimental design. This includes asking and answering questions such as:\n",
        "1. How long will the experiment run and how frequently will it be tested?\n",
        "2. How many users will be considered as part of the experiment? If the number of users is less, we need to increase the run time of the experiment for sound results.\n",
        "3. How to account for learning effect? Sometimes, changes made to the website are subtle and not easily recognizable to the users in which case we need to give them some time to get acquainted with the changes.\n",
        "4. Tools to capture the statistics of the data being used in the experiment. Tools may limit the data accessible to us and sometimes can introduce inherent biases of their own.\n",
        "\n",
        "We start with a simple setting: \n",
        "\n",
        "$H_{o}$ states that the probability of conversion in the treatment group minus the probability of conversion in the control group equals zero and $H_{a}$ considers the probability of conversion in the treatment group minus the probability of conversion in the control group does not equal zero."
      ]
    },
    {
      "cell_type": "code",
      "metadata": {
        "id": "zWB3DVW-4pwR",
        "outputId": "b98f0c68-841b-4cde-ee95-67daa0e23be4",
        "colab": {
          "base_uri": "https://localhost:8080/"
        }
      },
      "source": [
        "def groupStats(group):\n",
        "    mask = (df[\"group\"] == group)\n",
        "    conversions = df[\"converted\"][mask].sum()\n",
        "    total_users = df[\"converted\"][mask].count()\n",
        "\n",
        "    return conversions,total_users\n",
        "\n",
        "conversions_control, total_users_control =groupStats(group = \"control\")\n",
        "conversions_treatment, total_users_treatment =groupStats(group = \"treatment\")\n",
        "\n",
        "prob_pooled = (conversions_control + conversions_treatment) / (total_users_control + total_users_treatment)\n",
        "print(prob_pooled)"
      ],
      "execution_count": 21,
      "outputs": [
        {
          "output_type": "stream",
          "text": [
            "0.11959708724499628\n"
          ],
          "name": "stdout"
        }
      ]
    },
    {
      "cell_type": "code",
      "metadata": {
        "id": "FLSAeS5z_3wP",
        "outputId": "7c85001f-ad43-4479-e6cf-4e4199117e6f",
        "colab": {
          "base_uri": "https://localhost:8080/"
        }
      },
      "source": [
        "# Calculate pooled standard error and margin of error\n",
        "se_pooled = math.sqrt(prob_pooled * (1 - prob_pooled) * (1 / total_users_control + 1 / total_users_treatment))\n",
        "z_score = st.norm.ppf(1 - confidence_level / 2)\n",
        "margin_of_error = se_pooled * z_score\n",
        "\n",
        "# Calculate the estimated difference between probability of conversions in the experiment and control groups\n",
        "d_hat = (conversions_treatment / total_users_treatment) - (conversions_control / total_users_control)\n",
        "\n",
        "# Test if we can reject the null hypothesis\n",
        "lower_bound = d_hat - margin_of_error\n",
        "upper_bound = d_hat + margin_of_error\n",
        "\n",
        "if practical_significance < lower_bound:\n",
        "    print(\"Reject null hypothesis\")\n",
        "else: \n",
        "    print(\"Do not reject the null hypothesis\")\n",
        "    \n",
        "print(\"The lower bound of the confidence interval is \", round(lower_bound * 100, 2), \"%\")\n",
        "print(\"The upper bound of the confidence interval is \", round(upper_bound * 100, 2), \"%\")"
      ],
      "execution_count": 18,
      "outputs": [
        {
          "output_type": "stream",
          "text": [
            "Do not reject the null hypothesis\n",
            "The lower bound of the confidence interval is  -0.39 %\n",
            "The upper bound of the confidence interval is  0.08 %\n"
          ],
          "name": "stdout"
        }
      ]
    },
    {
      "cell_type": "markdown",
      "metadata": {
        "id": "oP45v55LYiaX"
      },
      "source": [
        "The process used above is known as the **2-sample Z-test** in statistical terms. We read about it in books but most of us have never thought about it's implementation is the real-world.\n",
        "\n",
        "Let's touch the base with the process. $n_{1}$ and $n_2$ are the sample sizes of the distrbutions $P_1$ and $P_2$ respectively. Here $P$ refers to the sample proportion being considered. \n",
        "\n",
        "Since the null hypothesis states that $P_1=P_2$, we use a pooled sample proportion (p) to compute the standard error of the sampling distribution.\n",
        "The pooled probability, $p = \\frac{(p1 * n1 + p2 * n2)}{(n1 + n2)}$\n",
        "\n",
        "Standard error (SE) of the sampling distribution difference between two proportions.\n",
        "$SE = \\sqrt{ p * ( 1 - p ) * ((1/n1) + (1/n2)) }$\n",
        "\n",
        "The test statistic is a z-score (z) defined by the following equation:\n",
        "$z = \\frac{(p1 - p2)} {SE}$\n",
        "\n",
        "We will use the Z-score and the SE to calculate the margin of error = $z*SE$\n",
        "\n",
        "\n"
      ]
    }
  ]
}